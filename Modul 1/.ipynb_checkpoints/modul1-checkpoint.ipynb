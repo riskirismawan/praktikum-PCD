{
 "cells": [
  {
   "cell_type": "code",
   "execution_count": 1,
   "metadata": {},
   "outputs": [],
   "source": [
    "import numpy as np\n",
    "import matplotlib.pyplot as plot\n",
    "\n",
    "# inisialisasi awal matrix\n",
    "x = [[3,7,7,8,10,12,14,10],\n",
    "    [2,0,0,0,1,8,15,15],\n",
    "    [14,6,5,9,8,10,9,12],\n",
    "    [12,12,11,8,8,10,11,1],\n",
    "    [0,2,3,4,5,13,10,14],\n",
    "    [4,5,0,0,1,0,2,2],\n",
    "    [15,13,11,10,9,9,8,7],\n",
    "    [2,1,0,10,11,14,13,12]]\n",
    "\n",
    "ni = np.zeros(16)"
   ]
  },
  {
   "cell_type": "code",
   "execution_count": 2,
   "metadata": {},
   "outputs": [],
   "source": [
    "# menghitung banyaknya kemunculan indeks keabuan\n",
    "for i in x:\n",
    "    for j in i:\n",
    "        ni[j]+=1\n",
    "\n",
    "print(ni)"
   ]
  },
  {
   "cell_type": "code",
   "execution_count": 4,
   "metadata": {},
   "outputs": [
    {
     "data": {
      "text/plain": [
       "<BarContainer object of 16 artists>"
      ]
     },
     "execution_count": 4,
     "metadata": {},
     "output_type": "execute_result"
    },
    {
     "data": {
      "image/png": "[encoded data removed]",
      "text/plain": [
       "<Figure size 432x288 with 1 Axes>"
      ]
     },
     "metadata": {
      "needs_background": "light"
     },
     "output_type": "display_data"
    }
   ],
   "source": [
    "hi = ni/64\n",
    "\n",
    "plot.bar([0,1,2,3,4,5,6,7,8,9,10,11,12,13,14,15], hi)\n",
    "# plot.show()"
   ]
  },
  {
   "cell_type": "code",
   "execution_count": 5,
   "metadata": {},
   "outputs": [],
   "source": [
    "konvolusi = [[1,1,3,2,0],\n",
    "            [4,5,6,5,0],\n",
    "            [6,2,10,2,0],\n",
    "            [1,1,3,2,0],\n",
    "            [0,0,0,0,0]]\n",
    "\n",
    "kernel = [[1,2],\n",
    "         [3,5]]"
   ]
  },
  {
   "cell_type": "code",
   "execution_count": 6,
   "metadata": {},
   "outputs": [
    {
     "name": "stdout",
     "output_type": "stream",
     "text": [
      "[[40. 52. 50. 17.]\n",
      " [42. 73. 56. 11.]\n",
      " [18. 40. 33.  8.]\n",
      " [ 3.  7.  7.  2.]]\n"
     ]
    }
   ],
   "source": [
    "konvol = np.zeros((4,4))\n",
    "# proses perhitungan konvolusi dengan menggunakan titik tengah\n",
    "for a in range (4):\n",
    "    for b in range (4):\n",
    "        konvol[a][b] = (konvolusi[a][b]*kernel[0][0] + konvolusi[a][b+1]*kernel[0][1] + konvolusi[a+1][b]*kernel[1][0] + konvolusi[a+1][b+1]*kernel[1][1])\n",
    "\n",
    "print(konvol)"
   ]
  },
  {
   "cell_type": "code",
   "execution_count": 7,
   "metadata": {},
   "outputs": [
    {
     "name": "stdout",
     "output_type": "stream",
     "text": [
      "[[ 8. 11. 10.  3.]\n",
      " [ 8. 15. 11.  2.]\n",
      " [ 3.  8.  7.  1.]\n",
      " [ 0.  1.  1.  0.]]\n"
     ]
    }
   ],
   "source": [
    "# proses pengecilan indeks matriks agar sesaui dengan jumlah bit\n",
    "for a in range (4):\n",
    "    for b in range (4):\n",
    "        konvol[a][b] = round (((konvol[a][b]-2)/71)*15)\n",
    "        \n",
    "print(konvol)\n",
    "    "
   ]
  }
 ],
 "metadata": {
  "kernelspec": {
   "display_name": "Python 3",
   "language": "python",
   "name": "python3"
  },
  "language_info": {
   "codemirror_mode": {
    "name": "ipython",
    "version": 3
   },
   "file_extension": ".py",
   "mimetype": "text/x-python",
   "name": "python",
   "nbconvert_exporter": "python",
   "pygments_lexer": "ipython3",
   "version": "3.7.4"
  }
 },
 "nbformat": 4,
 "nbformat_minor": 4
}

{
 "cells": [
  {
   "cell_type": "code",
   "execution_count": 1,
   "metadata": {},
   "outputs": [],
   "source": [
    "import numpy as np\n",
    "import matplotlib.pyplot as plt\n",
    "import math as mt"
   ]
  },
  {
   "cell_type": "code",
   "execution_count": 2,
   "metadata": {},
   "outputs": [],
   "source": [
    "# matriks pada soal\n",
    "mtrx = np.array([[2,5,6,3],\n",
    "    [4,0,1,2],\n",
    "    [2,3,7,1],\n",
    "    [6,4,5,2]])\n",
    "\n",
    "bin = np.zeros([7,6]) #pendeklarasian matriks yang akan digunakan matriks bantu"
   ]
  },
  {
   "cell_type": "code",
   "execution_count": 3,
   "metadata": {},
   "outputs": [
    {
     "name": "stdout",
     "output_type": "stream",
     "text": [
      "[[0. 0. 2. 5. 6. 3.]\n",
      " [0. 0. 4. 0. 1. 2.]\n",
      " [0. 0. 2. 3. 7. 1.]\n",
      " [0. 0. 6. 4. 5. 2.]\n",
      " [0. 0. 0. 0. 0. 0.]\n",
      " [0. 0. 0. 0. 0. 0.]\n",
      " [0. 0. 0. 0. 0. 0.]]\n"
     ]
    }
   ],
   "source": [
    "#Translasi sejauh x=2 dan y=3\n",
    "\n",
    "for i in range(len(mtrx)):\n",
    "    for j in range(len(mtrx)):\n",
    "        bin[i][j+2] = mtrx[i][j] #operasi pemindahan sejauh x=2 dan y =3 tanpa menggunakan matriks bantu\n",
    "        \n",
    "print(bin)"
   ]
  },
  {
   "cell_type": "code",
   "execution_count": 4,
   "metadata": {},
   "outputs": [
    {
     "name": "stdout",
     "output_type": "stream",
     "text": [
      "[[0. 0. 6. 4.]\n",
      " [0. 0. 0. 0.]\n",
      " [0. 0. 0. 0.]\n",
      " [0. 0. 0. 0.]]\n"
     ]
    },
    {
     "data": {
      "text/plain": [
       "<matplotlib.image.AxesImage at 0x187cb8b9548>"
      ]
     },
     "execution_count": 4,
     "metadata": {},
     "output_type": "execute_result"
    },
    {
     "data": {
      "image/png": "[encoded data removed]",
      "text/plain": [
       "<Figure size 432x288 with 1 Axes>"
      ]
     },
     "metadata": {
      "needs_background": "light"
     },
     "output_type": "display_data"
    }
   ],
   "source": [
    "translasi = np.zeros([4,4]) #pendeklarasian matriks yang akan digunakan untuk translasi\n",
    "\n",
    "for i in range(len(translasi)):\n",
    "    for j in range(len(translasi)):\n",
    "        translasi[i][j] = bin[i+3][j] #operasi pemindahan sejauh x=2 dan y =3 tanpa menggunakan matriks bantu\n",
    "        \n",
    "print(translasi) #menampilkan isi dari translasi\n",
    "plt.imshow(translasi) "
   ]
  },
  {
   "cell_type": "code",
   "execution_count": 5,
   "metadata": {},
   "outputs": [
    {
     "name": "stdout",
     "output_type": "stream",
     "text": [
      "[[3. 2. 1. 2.]\n",
      " [6. 1. 7. 5.]\n",
      " [5. 0. 3. 4.]\n",
      " [2. 4. 2. 6.]]\n"
     ]
    },
    {
     "data": {
      "text/plain": [
       "<matplotlib.image.AxesImage at 0x187cb973ec8>"
      ]
     },
     "execution_count": 5,
     "metadata": {},
     "output_type": "execute_result"
    },
    {
     "data": {
      "image/png": "[encoded data removed]",
      "text/plain": [
       "<Figure size 432x288 with 1 Axes>"
      ]
     },
     "metadata": {
      "needs_background": "light"
     },
     "output_type": "display_data"
    }
   ],
   "source": [
    "#Rotasi 90 derajat\n",
    "rotasi = np.zeros([4,4]) #pendeklarasian matriks yang akan digunakan untuk rotasi\n",
    "degre = np.deg2rad(90) #jumlah rotasi\n",
    "m=n=1\n",
    "s=round(np.sin(degre)) #pendeklarasian sin sebagai s\n",
    "c=round(np.cos(degre)) #pendeklarasian cos sebagai c\n",
    "\n",
    "for row in range(len(mtrx)):\n",
    "    for cl in range(len(mtrx)):\n",
    "        temp_x=abs(int(round(np.cos(degre)*(row-n)-np.sin(degre)*(cl-m)+n+1))) #pengoperasian isi matriks yang akan dipindah terhadap sumbu x\n",
    "        temp_y=abs(int(round(np.sin(degre)*(row-n)+np.cos(degre)*(cl-m)+m))) #pengoperasian isi matriks yang akan dipindah terhadap sumbu y\n",
    "        rotasi[temp_x][temp_y]=mtrx[row][cl] #assignment operator yang menyatakan matrikx row dan cl berisi x dan y\n",
    "        \n",
    "print(rotasi) #menampilkan isi dari rotasi\n",
    "plt.imshow(rotasi) "
   ]
  },
  {
   "cell_type": "code",
   "execution_count": 6,
   "metadata": {},
   "outputs": [
    {
     "name": "stdout",
     "output_type": "stream",
     "text": [
      "Matriks awal\n",
      "[[2 5 6 3]\n",
      " [4 0 1 2]\n",
      " [2 3 7 1]\n",
      " [6 4 5 2]]\n",
      "Pencerminan sumbu X : \n",
      "[[6. 4. 5. 2.]\n",
      " [2. 3. 7. 1.]\n",
      " [4. 0. 1. 2.]\n",
      " [2. 5. 6. 3.]]\n",
      "Pencerminan sumbu Y : \n",
      "[[3. 6. 5. 2.]\n",
      " [2. 1. 0. 4.]\n",
      " [1. 7. 3. 2.]\n",
      " [2. 5. 4. 6.]]\n"
     ]
    }
   ],
   "source": [
    "#pencerminan terhadap sumbu x dan y\n",
    "mirrorX = np.zeros([4,4]) #pendeklarasian matriks yang akan digunakan untuk cermin terhadap sumbu x\n",
    "mirrorY = np.zeros([4,4]) #pendeklarasian matriks yang akan digunakan untuk cermin terhadap sumbu y\n",
    "\n",
    "x = 3 #jarak terhadap sumbu x\n",
    "y = 3 #jarak terhadap sumbu y\n",
    "\n",
    "for i in range(len(mtrx)):\n",
    "    for j in range(len(mtrx)):\n",
    "        mirrorX[i,j]=mtrx[x-i,j] #assignment operator yang menyatakan bahwa pencerminan terhadap sumbu x\n",
    "        mirrorY[i,j]=mtrx[i,y-j] #assignment operator yang menyatakan bahwa pencerminan terhadap sumbu y\n",
    "        \n",
    "print(\"Matriks awal\")\n",
    "print(mtrx) #menampilkan isi dari mtrx\n",
    "print(\"Pencerminan sumbu X : \")\n",
    "print(mirrorX) #menampilkan isi dari mirrorx\n",
    "print(\"Pencerminan sumbu Y : \")\n",
    "print(mirrorY) #menampilkan isi dari mirrory"
   ]
  },
  {
   "cell_type": "code",
   "execution_count": 7,
   "metadata": {},
   "outputs": [
    {
     "name": "stdout",
     "output_type": "stream",
     "text": [
      "[[2. 2. 5. 5. 6. 6. 3. 3.]\n",
      " [2. 2. 5. 5. 6. 6. 3. 3.]\n",
      " [4. 4. 0. 0. 1. 1. 2. 2.]\n",
      " [4. 4. 0. 0. 1. 1. 2. 2.]\n",
      " [2. 2. 3. 3. 7. 7. 1. 1.]\n",
      " [2. 2. 3. 3. 7. 7. 1. 1.]\n",
      " [6. 6. 4. 4. 5. 5. 2. 2.]\n",
      " [6. 6. 4. 4. 5. 5. 2. 2.]]\n"
     ]
    }
   ],
   "source": [
    "#dilatasi\n",
    "dilatasi = np.zeros([8,8]) #pendeklarasian matriks yang akan digunakan untuk dilatasi\n",
    "\n",
    "for i in range(len(mtrx)):\n",
    "    for j in range(len(mtrx)):\n",
    "        for k in range(i*2,i*2+2):\n",
    "            for l in range(j*2,j*2+2):\n",
    "                dilatasi[k,l] = mtrx[i,j] #assignment operator yang digunakan untuk pengolahan dilatasi pada matriks\n",
    "                \n",
    "print(dilatasi) #menampilkan isi dari dilatasi"
   ]
  }
 ],
 "metadata": {
  "kernelspec": {
   "display_name": "Python 3",
   "language": "python",
   "name": "python3"
  },
  "language_info": {
   "codemirror_mode": {
    "name": "ipython",
    "version": 3
   },
   "file_extension": ".py",
   "mimetype": "text/x-python",
   "name": "python",
   "nbconvert_exporter": "python",
   "pygments_lexer": "ipython3",
   "version": "3.7.4"
  }
 },
 "nbformat": 4,
 "nbformat_minor": 4
}

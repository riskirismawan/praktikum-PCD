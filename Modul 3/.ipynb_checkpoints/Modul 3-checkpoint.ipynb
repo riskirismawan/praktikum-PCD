{
 "cells": [
  {
   "cell_type": "code",
   "execution_count": 1,
   "metadata": {},
   "outputs": [],
   "source": [
    "import numpy as np\n",
    "import matplotlib.pyplot as plt"
   ]
  },
  {
   "cell_type": "code",
   "execution_count": 2,
   "metadata": {},
   "outputs": [],
   "source": [
    "# inisialisasi awal\n",
    "k = [0, 1, 2, 3, 4, 5, 6, 7]\n",
    "nk = [641, 980, 621, 211, 450, 650, 512, 398]"
   ]
  },
  {
   "cell_type": "code",
   "execution_count": 4,
   "metadata": {},
   "outputs": [
    {
     "name": "stdout",
     "output_type": "stream",
     "text": [
      "[0.14 0.36 0.5  0.55 0.65 0.8  0.91 1.  ]\n"
     ]
    },
    {
     "data": {
      "image/png": "[encoded data removed]",
      "text/plain": [
       "<Figure size 432x288 with 1 Axes>"
      ]
     },
     "metadata": {
      "needs_background": "light"
     },
     "output_type": "display_data"
    }
   ],
   "source": [
    "# ekualisasi\n",
    "rk = np.zeros(8)\n",
    "pr = np.zeros(8)\n",
    "sk = np.zeros(8)\n",
    "t_sk = np.zeros(8)\n",
    "kl = np.zeros(8)\n",
    "\n",
    "# menghitung ekualisasi awan (pr) dan rata rata derajat keabuan (rk)\n",
    "for i in range(len(k)):\n",
    "    rk[i] = round(k[i]/7, 2)\n",
    "    pr[i] = round(nk[i]/4463, 2)\n",
    "\n",
    "# menghitung frekuensi komulatif (sk)\n",
    "for j in range(len(pr)):\n",
    "    if j==0:\n",
    "        sk[j] = round(sk[j] + pr[j], 2)\n",
    "    else:\n",
    "        sk[j] = round(sk[j-1] + pr[j], 2)\n",
    "    \n",
    "# histogram awal\n",
    "plt.bar(k,pr)\n",
    "print(sk)\n",
    "\n"
   ]
  },
  {
   "cell_type": "code",
   "execution_count": 5,
   "metadata": {},
   "outputs": [
    {
     "data": {
      "text/plain": [
       "<BarContainer object of 8 artists>"
      ]
     },
     "execution_count": 5,
     "metadata": {},
     "output_type": "execute_result"
    },
    {
     "data": {
      "image/png": "[encoded data removed]",
      "text/plain": [
       "<Figure size 432x288 with 1 Axes>"
      ]
     },
     "metadata": {
      "needs_background": "light"
     },
     "output_type": "display_data"
    }
   ],
   "source": [
    "# mencari nilai sk yang mendekati rk\n",
    "for l in range(len(k)):\n",
    "    t_sk[l] = round(sk[l]*7)\n",
    "    \n",
    "for row in range(8):\n",
    "    g = int (t_sk[row])\n",
    "    kl[g] = kl[g] + pr[row]\n",
    "    \n",
    "plt.bar(k, kl)"
   ]
  },
  {
   "cell_type": "code",
   "execution_count": 6,
   "metadata": {},
   "outputs": [
    {
     "data": {
      "text/plain": [
       "<BarContainer object of 8 artists>"
      ]
     },
     "execution_count": 6,
     "metadata": {},
     "output_type": "execute_result"
    },
    {
     "data": {
      "image/png": "[encoded data removed]",
      "text/plain": [
       "<Figure size 432x288 with 1 Axes>"
      ]
     },
     "metadata": {
      "needs_background": "light"
     },
     "output_type": "display_data"
    }
   ],
   "source": [
    "# spesifikasi\n",
    "# inisialisasi awal\n",
    "d_abu = [0, 1, 2, 3, 4, 5, 6, 7]\n",
    "trans = [0, 0, 0, 0.15, 0.20, 0.30, 0.20, 0.15]\n",
    "\n",
    "plt.bar(d_abu, trans)"
   ]
  },
  {
   "cell_type": "code",
   "execution_count": 7,
   "metadata": {},
   "outputs": [
    {
     "name": "stdout",
     "output_type": "stream",
     "text": [
      "[0.   0.   0.   0.15 0.35 0.65 0.85 1.  ]\n"
     ]
    }
   ],
   "source": [
    "vk=np.zeros(8)\n",
    "\n",
    "for i in range(8):\n",
    "    if i != 0:\n",
    "        vk[i]=trans[i]+vk[i-1]\n",
    "    else :\n",
    "        vk[i]=trans[i]\n",
    "    if vk[i] >= 1.0:\n",
    "        vk[i]=1\n",
    "\n",
    "print(vk)"
   ]
  },
  {
   "cell_type": "code",
   "execution_count": 8,
   "metadata": {},
   "outputs": [
    {
     "name": "stdout",
     "output_type": "stream",
     "text": [
      "[0.14 0.36 0.5  0.55 0.65 0.8  0.91 1.  ]\n",
      "[3 4 5 5 5 6 6 7]\n"
     ]
    }
   ],
   "source": [
    "app_spec=np.zeros(8, int)\n",
    "\n",
    "for i in range(8):\n",
    "    for j in range(8):\n",
    "        if sk[i] >= vk[j]:\n",
    "            if i == 7:\n",
    "                app_spec[i]=7\n",
    "            elif (vk[j+1]-sk[i]) <= (sk[i]-vk[j]):\n",
    "                app_spec[i]=j+1\n",
    "            else:\n",
    "                app_spec[i]=j\n",
    "\n",
    "print(sk)\n",
    "print(app_spec)"
   ]
  },
  {
   "cell_type": "code",
   "execution_count": 9,
   "metadata": {},
   "outputs": [
    {
     "name": "stdout",
     "output_type": "stream",
     "text": [
      "[   0.    0.    0.  641.  980. 1282. 1162.  398.]\n"
     ]
    },
    {
     "data": {
      "text/plain": [
       "<BarContainer object of 8 artists>"
      ]
     },
     "execution_count": 9,
     "metadata": {},
     "output_type": "execute_result"
    },
    {
     "data": {
      "image/png": "[encoded data removed]",
      "text/plain": [
       "<Figure size 432x288 with 1 Axes>"
      ]
     },
     "metadata": {
      "needs_background": "light"
     },
     "output_type": "display_data"
    }
   ],
   "source": [
    "speci=np.zeros(8)\n",
    "\n",
    "for i in range(8):\n",
    "    for j in range(8):\n",
    "        if j == app_spec[i]:\n",
    "            speci[j] +=nk[i]\n",
    "            \n",
    "print(speci)\n",
    "plt.bar([i for i in range(8)], speci/36)"
   ]
  }
 ],
 "metadata": {
  "kernelspec": {
   "display_name": "Python 3",
   "language": "python",
   "name": "python3"
  },
  "language_info": {
   "codemirror_mode": {
    "name": "ipython",
    "version": 3
   },
   "file_extension": ".py",
   "mimetype": "text/x-python",
   "name": "python",
   "nbconvert_exporter": "python",
   "pygments_lexer": "ipython3",
   "version": "3.7.4"
  }
 },
 "nbformat": 4,
 "nbformat_minor": 4
}
